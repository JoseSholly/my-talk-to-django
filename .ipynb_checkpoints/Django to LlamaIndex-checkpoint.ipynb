{
 "cells": [
  {
   "cell_type": "code",
   "execution_count": 16,
   "id": "1d5c8d3f-612f-471d-8645-455ed7c18a9a",
   "metadata": {},
   "outputs": [],
   "source": [
    "import setup\n",
    "\n",
    "setup.init_django()"
   ]
  },
  {
   "cell_type": "code",
   "execution_count": 20,
   "id": "1cf86428-6ffb-4fc6-9b9a-9535c2c4fef4",
   "metadata": {},
   "outputs": [],
   "source": [
    "from decouple import config\n",
    "from blog.models import BlogPost \n",
    "from blog import services"
   ]
  },
  {
   "cell_type": "code",
   "execution_count": 23,
   "id": "0ca7fb28-1dce-41d4-a305-18b392e4a4f7",
   "metadata": {},
   "outputs": [],
   "source": [
    "# qs = BlogPost.objects.filter(can_delete=True)\n",
    "# qs"
   ]
  },
  {
   "cell_type": "code",
   "execution_count": 24,
   "id": "aae7ea19-2420-4c77-a60d-0761161d8e6f",
   "metadata": {},
   "outputs": [],
   "source": [
    "# !pip install llama-index sqlalchemy llama-index-vector-stores-postgres"
   ]
  },
  {
   "cell_type": "code",
   "execution_count": null,
   "id": "ecb2be8e-f174-4a03-8eed-1b90c8a6023f",
   "metadata": {},
   "outputs": [],
   "source": []
  }
 ],
 "metadata": {
  "kernelspec": {
   "display_name": "Python 3 (ipykernel)",
   "language": "python",
   "name": "python3"
  },
  "language_info": {
   "codemirror_mode": {
    "name": "ipython",
    "version": 3
   },
   "file_extension": ".py",
   "mimetype": "text/x-python",
   "name": "python",
   "nbconvert_exporter": "python",
   "pygments_lexer": "ipython3",
   "version": "3.11.9"
  }
 },
 "nbformat": 4,
 "nbformat_minor": 5
}
