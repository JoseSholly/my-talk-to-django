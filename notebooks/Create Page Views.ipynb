{
 "cells": [
  {
   "cell_type": "code",
   "execution_count": 2,
   "id": "0b86601d-5363-430c-9d4e-d82c09d617ab",
   "metadata": {},
   "outputs": [],
   "source": [
    "import setup\n",
    "\n",
    "setup.init_django()"
   ]
  },
  {
   "cell_type": "code",
   "execution_count": 3,
   "id": "ca8e7c26-7a2c-4f7c-b43b-b0b73f4bf991",
   "metadata": {},
   "outputs": [],
   "source": [
    "import random\n",
    "from analytics.models import PageView\n",
    "from blog.models import BlogPost"
   ]
  },
  {
   "cell_type": "code",
   "execution_count": 4,
   "id": "29b78f1f-f614-451b-8e71-3182b739e6bc",
   "metadata": {},
   "outputs": [
    {
     "name": "stdout",
     "output_type": "stream",
     "text": [
      "Successfully created 68780 PageView instances in bulk.\n"
     ]
    }
   ],
   "source": [
    "page_views_to_create = []\n",
    "blog_posts_to_process = BlogPost.objects.filter(can_delete=True)\n",
    "\n",
    "for blog_post_obj in blog_posts_to_process:\n",
    "    num_views = random.randint(500, 2500)\n",
    "\n",
    "    # For each generated view, create a PageView object.\n",
    "    # We are creating the Python object \n",
    "    for _ in range(num_views):\n",
    "        page_views_to_create.append(\n",
    "            PageView(post=blog_post_obj)\n",
    "        )\n",
    "        \n",
    "total_created = len(page_views_to_create)\n",
    "PageView.objects.bulk_create(page_views_to_create, batch_size=1000)\n",
    "\n",
    "print(f\"Successfully created {total_created} PageView instances in bulk.\")"
   ]
  },
  {
   "cell_type": "code",
   "execution_count": null,
   "id": "d952b7d6-aaa3-4e8f-9aac-c96b4538723d",
   "metadata": {},
   "outputs": [],
   "source": []
  },
  {
   "cell_type": "code",
   "execution_count": null,
   "id": "46e4e964-25a1-456f-8c82-24506917d625",
   "metadata": {},
   "outputs": [],
   "source": []
  }
 ],
 "metadata": {
  "kernelspec": {
   "display_name": "Python 3 (ipykernel)",
   "language": "python",
   "name": "python3"
  },
  "language_info": {
   "codemirror_mode": {
    "name": "ipython",
    "version": 3
   },
   "file_extension": ".py",
   "mimetype": "text/x-python",
   "name": "python",
   "nbconvert_exporter": "python",
   "pygments_lexer": "ipython3",
   "version": "3.11.9"
  }
 },
 "nbformat": 4,
 "nbformat_minor": 5
}
