{
 "cells": [
  {
   "cell_type": "code",
   "execution_count": 1,
   "id": "23c95856-610e-4992-b9e0-e90c77f1f628",
   "metadata": {},
   "outputs": [],
   "source": [
    "import setup\n",
    "setup.init_django()"
   ]
  },
  {
   "cell_type": "code",
   "execution_count": 2,
   "id": "805dffd6-160c-4a4e-b123-92fb4b32ec03",
   "metadata": {},
   "outputs": [],
   "source": [
    "from blog import services"
   ]
  },
  {
   "cell_type": "code",
   "execution_count": 3,
   "id": "a578f1a5-871f-4aa3-9bb3-3a166495171d",
   "metadata": {},
   "outputs": [],
   "source": [
    "results = services.search_posts(\"This is cat\")"
   ]
  },
  {
   "cell_type": "code",
   "execution_count": 4,
   "id": "4e9b3f68-775b-496e-bf0f-b332d752d526",
   "metadata": {},
   "outputs": [
    {
     "data": {
      "text/plain": [
       "0.7991390116932255"
      ]
     },
     "execution_count": 4,
     "metadata": {},
     "output_type": "execute_result"
    }
   ],
   "source": [
    "results.first().similarity"
   ]
  },
  {
   "cell_type": "code",
   "execution_count": null,
   "id": "76e563b3-c12e-420c-a7c7-e18b8c9f19ac",
   "metadata": {},
   "outputs": [],
   "source": []
  }
 ],
 "metadata": {
  "kernelspec": {
   "display_name": "Python 3 (ipykernel)",
   "language": "python",
   "name": "python3"
  },
  "language_info": {
   "codemirror_mode": {
    "name": "ipython",
    "version": 3
   },
   "file_extension": ".py",
   "mimetype": "text/x-python",
   "name": "python",
   "nbconvert_exporter": "python",
   "pygments_lexer": "ipython3",
   "version": "3.11.9"
  }
 },
 "nbformat": 4,
 "nbformat_minor": 5
}
