{
 "cells": [
  {
   "cell_type": "code",
   "execution_count": 1,
   "id": "23c95856-610e-4992-b9e0-e90c77f1f628",
   "metadata": {},
   "outputs": [],
   "source": [
    "import setup \n",
    "setup.init_django()"
   ]
  },
  {
   "cell_type": "code",
   "execution_count": 2,
   "id": "7fd94b1b-3c1f-401b-ad68-3b24a51d76cb",
   "metadata": {},
   "outputs": [],
   "source": [
    "from google import genai\n",
    "from google.genai import types\n",
    "from decouple import config\n",
    "from products.models import Embedding\n",
    "\n",
    "EMBEDDING_MODEL = config(\"EMBEDDING_MODEL\", default=\"gemini-embedding-exp-03-07\")"
   ]
  },
  {
   "cell_type": "code",
   "execution_count": 3,
   "id": "db951938-f556-48f4-83ce-bdafae090cda",
   "metadata": {},
   "outputs": [],
   "source": [
    "def get_embedding(text, task_type=\"retrieval_document\"):\n",
    "    \"\"\"\n",
    "    Generates an embedding for a given text using the experimental\n",
    "    gemini-embedding-exp-03-07 model with 1536 dimensions.\n",
    "    Ensure GEMINI_API_KEY is set in your Django settings.\n",
    "    \"\"\"\n",
    "\n",
    "    try:\n",
    "        client = genai.Client(api_key=config(\"GEMINI_API_KEY\"))\n",
    "        response = client.models.embed_content(\n",
    "            model=\"gemini-embedding-exp-03-07\",\n",
    "            contents=text,\n",
    "            config=types.EmbedContentConfig(output_dimensionality=3072, task_type=\"RETRIEVAL_DOCUMENT\")\n",
    "        )\n",
    "        # Access the actual list of float values from the ContentEmbedding object\n",
    "        if response.embeddings and len(response.embeddings) > 0:\n",
    "            # response.embeddings is a list of ContentEmbedding objects\n",
    "            # Each ContentEmbedding object has a 'values' attribute which is the list of floats\n",
    "            return response.embeddings[0].values\n",
    "        else:\n",
    "            print(\"Warning: No embeddings found in the response.\")\n",
    "            return None\n",
    "\n",
    "    except Exception as e:\n",
    "        print(f\"Error generating Gemini embedding: {e}\")\n",
    "        return None"
   ]
  },
  {
   "cell_type": "code",
   "execution_count": 4,
   "id": "f9ee78b0-026d-4dd8-8a0c-27c131d82865",
   "metadata": {},
   "outputs": [],
   "source": [
    "query = \"The man is looking at the window\"\n",
    "query_embedding = get_embedding(query)"
   ]
  },
  {
   "cell_type": "code",
   "execution_count": 6,
   "id": "424f6242-c7d3-4f13-9361-c8c1d0f0c275",
   "metadata": {},
   "outputs": [
    {
     "name": "stdout",
     "output_type": "stream",
     "text": [
      "272 272 Blog Post 3 0.2063729053473058 79.36270946526942\n",
      "273 273 Blog Post 4 0.21650826930999756 78.34917306900024\n"
     ]
    }
   ],
   "source": [
    "from pgvector.django import CosineDistance\n",
    "from django.db.models import F\n",
    "\n",
    "qs = Embedding.objects.annotate(\n",
    "    distance=CosineDistance('embedding',query_embedding),\n",
    "    similarity=1 - F(\"distance\")\n",
    ").order_by(\"distance\")\n",
    "for obj in qs: \n",
    "    print(obj.object_id, obj.content_object.id, obj.content_object.title, obj.distance, obj.similarity * 100)"
   ]
  },
  {
   "cell_type": "code",
   "execution_count": null,
   "id": "a578f1a5-871f-4aa3-9bb3-3a166495171d",
   "metadata": {},
   "outputs": [],
   "source": []
  }
 ],
 "metadata": {
  "kernelspec": {
   "display_name": "Python 3 (ipykernel)",
   "language": "python",
   "name": "python3"
  },
  "language_info": {
   "codemirror_mode": {
    "name": "ipython",
    "version": 3
   },
   "file_extension": ".py",
   "mimetype": "text/x-python",
   "name": "python",
   "nbconvert_exporter": "python",
   "pygments_lexer": "ipython3",
   "version": "3.11.9"
  }
 },
 "nbformat": 4,
 "nbformat_minor": 5
}
