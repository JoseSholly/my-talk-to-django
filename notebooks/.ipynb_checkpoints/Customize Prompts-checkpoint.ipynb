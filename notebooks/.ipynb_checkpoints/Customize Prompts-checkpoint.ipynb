{
 "cells": [
  {
   "cell_type": "code",
   "execution_count": null,
   "id": "c0b61227-1e29-42b8-8035-9650d3a647d7",
   "metadata": {},
   "outputs": [],
   "source": [
    "import setup\n",
    "\n",
    "setup.init_django()"
   ]
  },
  {
   "cell_type": "code",
   "execution_count": null,
   "id": "571db70f-b3c5-479b-a8b0-60fc910f2580",
   "metadata": {},
   "outputs": [],
   "source": [
    "from decouple import config"
   ]
  },
  {
   "cell_type": "code",
   "execution_count": null,
   "id": "80462221-3008-4a36-be57-12de161a236b",
   "metadata": {},
   "outputs": [],
   "source": [
    "from rag import db as rag_db, settings as rag_settings, engines as rag_engines"
   ]
  },
  {
   "cell_type": "code",
   "execution_count": null,
   "id": "f9f3f67a-5269-4b6d-ad03-a75e385261c7",
   "metadata": {},
   "outputs": [],
   "source": [
    "rag_settings.init()\n",
    "semantic_query_engine = rag_engines.get_semantic_query_engine()\n",
    "sql_query_engine = rag_engines.get_sql_query_engine(sql_only=True)"
   ]
  },
  {
   "cell_type": "code",
   "execution_count": null,
   "id": "658363b3-3d9d-4ddf-ac19-e733a20a8234",
   "metadata": {},
   "outputs": [],
   "source": [
    "print_default_prompts = True"
   ]
  },
  {
   "cell_type": "code",
   "execution_count": null,
   "id": "51d1f841-1098-417b-bbf7-78a042993c43",
   "metadata": {},
   "outputs": [],
   "source": [
    "prompts_dict = sql_query_engine.get_prompts()\n",
    "\n",
    "if print_default_prompts:\n",
    "    print(prompts_dict['response_synthesis_prompt'].template)"
   ]
  },
  {
   "cell_type": "code",
   "execution_count": null,
   "id": "98e7215f-2a70-475d-a4a9-6e72272c5e04",
   "metadata": {},
   "outputs": [],
   "source": [
    "if print_default_prompts:\n",
    "    print(sql_query_engine.sql_retriever.get_prompts()['text_to_sql_prompt'].template)"
   ]
  },
  {
   "cell_type": "code",
   "execution_count": null,
   "id": "3675089f-a882-4644-85e9-cb7e9231cea2",
   "metadata": {},
   "outputs": [],
   "source": [
    "from llama_index.core import PromptTemplate"
   ]
  },
  {
   "cell_type": "code",
   "execution_count": null,
   "id": "1a632d31-977b-400a-b5ca-a8060c29fead",
   "metadata": {},
   "outputs": [],
   "source": [
    "custom_sql_prompt = PromptTemplate(\"\"\"Given an input question, create a precise {dialect} PostgreSQL query to answer it. Follow these guidelines:\n",
    "\n",
    "1. Use only tables and columns from the provided schema.\n",
    "2. Select only relevant columns, never all columns.\n",
    "3. Qualify column names with table names when necessary.\n",
    "4. Use appropriate JOINs, WHERE clauses, and aggregations.\n",
    "5. Order results to highlight the most pertinent information.\n",
    "6. Avoid querying non-existent columns or tables.\n",
    "7. Optimize the query for performance where possible.\n",
    "\n",
    "Your response should contain only the SQL query, without any additional explanation or formatting. Do not use markdown or prepend the query with the term `sql`.\n",
    "\n",
    "Schema:\n",
    "{schema}\n",
    "\n",
    "Question: {query_str}\n",
    "SQL Query:\n",
    "\"\"\")"
   ]
  },
  {
   "cell_type": "code",
   "execution_count": null,
   "id": "68a86940-2e1f-4fa9-83c2-eb327e776eef",
   "metadata": {},
   "outputs": [],
   "source": [
    "custom_response_synthesis_prompt = PromptTemplate(\"\"\"Given an input question, synthesize a response from the query results.\n",
    "Query: {query_str}\n",
    "SQL: {sql_query}\n",
    "SQL Response: {context_str}\n",
    "Response: \n",
    "\"\"\")"
   ]
  },
  {
   "cell_type": "code",
   "execution_count": null,
   "id": "bdbc651b-5d58-43fc-aa3d-4e346769a498",
   "metadata": {},
   "outputs": [],
   "source": [
    "custom_response_synthesis_prompt.template_vars"
   ]
  },
  {
   "cell_type": "code",
   "execution_count": null,
   "id": "05981493-3da5-4eea-98d3-6f9b38b83169",
   "metadata": {},
   "outputs": [],
   "source": [
    "sql_query_engine = rag_engines.get_sql_query_engine(\n",
    "    sql_only=False,\n",
    "    synthesize_response=True\n",
    ")"
   ]
  },
  {
   "cell_type": "code",
   "execution_count": null,
   "id": "6ea6b7ab-5ec3-4a7e-8bd6-351fcad08507",
   "metadata": {},
   "outputs": [],
   "source": [
    "# print(sql_query_engine.sql_retriever.get_prompts()['text_to_sql_prompt'].template)"
   ]
  },
  {
   "cell_type": "code",
   "execution_count": null,
   "id": "381a3295-afe7-4313-8440-a5735f10f448",
   "metadata": {},
   "outputs": [],
   "source": [
    "response = sql_query_engine.query(\"What blog post has the most views from today?\")\n",
    "print(str(response))"
   ]
  },
  {
   "cell_type": "code",
   "execution_count": null,
   "id": "df87776c-0890-4ef4-96ca-cf43b74c94c4",
   "metadata": {},
   "outputs": [],
   "source": [
    "for node in response.source_nodes:\n",
    "    print(node.node.get_content())"
   ]
  },
  {
   "cell_type": "code",
   "execution_count": null,
   "id": "1657c108-f39d-419d-9c23-84093009d89a",
   "metadata": {},
   "outputs": [],
   "source": []
  }
 ],
 "metadata": {
  "kernelspec": {
   "display_name": "Python 3 (ipykernel)",
   "language": "python",
   "name": "python3"
  },
  "language_info": {
   "codemirror_mode": {
    "name": "ipython",
    "version": 3
   },
   "file_extension": ".py",
   "mimetype": "text/x-python",
   "name": "python",
   "nbconvert_exporter": "python",
   "pygments_lexer": "ipython3",
   "version": "3.11.9"
  }
 },
 "nbformat": 4,
 "nbformat_minor": 5
}
