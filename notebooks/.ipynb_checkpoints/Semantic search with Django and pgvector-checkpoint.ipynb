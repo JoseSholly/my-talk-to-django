{
 "cells": [
  {
   "cell_type": "code",
   "execution_count": 2,
   "id": "23c95856-610e-4992-b9e0-e90c77f1f628",
   "metadata": {},
   "outputs": [],
   "source": [
    "import setup \n",
    "setup.init_django()"
   ]
  },
  {
   "cell_type": "code",
   "execution_count": 3,
   "id": "7fd94b1b-3c1f-401b-ad68-3b24a51d76cb",
   "metadata": {},
   "outputs": [],
   "source": [
    "from google import genai\n",
    "from google.genai import types\n",
    "from decouple import config\n",
    "\n",
    "EMBEDDING_MODEL = config(\"EMBEDDING_MODEL\", default=\"gemini-embedding-exp-03-07\")"
   ]
  },
  {
   "cell_type": "code",
   "execution_count": 4,
   "id": "8e2c49b3-f728-44bb-a77a-4ee427c675f8",
   "metadata": {},
   "outputs": [],
   "source": [
    "from blog.models import BlogPost\n",
    "RECREATE_DATA = True"
   ]
  },
  {
   "cell_type": "code",
   "execution_count": 5,
   "id": "c9a909de-4d43-4dbb-bc7d-8a722681c491",
   "metadata": {},
   "outputs": [
    {
     "data": {
      "text/plain": [
       "(4, {'blog.BlogPost': 4})"
      ]
     },
     "execution_count": 5,
     "metadata": {},
     "output_type": "execute_result"
    }
   ],
   "source": [
    "qs = BlogPost.objects.filter(can_delete=True)\n",
    "qs.delete()"
   ]
  },
  {
   "cell_type": "code",
   "execution_count": 6,
   "id": "8f7acb64-9d7d-44d9-8814-45713c2d0f5b",
   "metadata": {},
   "outputs": [],
   "source": [
    "docs = [\"The man is looking at the woman\",\n",
    "       \"The woman is looking at the man\",\n",
    "       \"The day is bright\",\n",
    "       \"The man is dark and woman is light\"]"
   ]
  },
  {
   "cell_type": "code",
   "execution_count": 7,
   "id": "c56b378b-b1d1-46f0-b68a-81d0b483e2a6",
   "metadata": {},
   "outputs": [],
   "source": [
    "new_data = []\n",
    "for index, content in enumerate(docs):\n",
    "    new_post = BlogPost(title= f\"Blog Post {index+1}\", content=content, can_delete=True)\n",
    "    new_data.append(new_post)\n",
    "\n",
    "if RECREATE_DATA:\n",
    "    qs = BlogPost.objects.filter(can_delete=True)\n",
    "    qs.delete\n",
    "    BlogPost.objects.bulk_create(new_data)\n",
    "    "
   ]
  },
  {
   "cell_type": "code",
   "execution_count": 8,
   "id": "0344022c-ce8d-43f4-881a-39240abf7083",
   "metadata": {},
   "outputs": [
    {
     "data": {
      "text/plain": [
       "4"
      ]
     },
     "execution_count": 8,
     "metadata": {},
     "output_type": "execute_result"
    }
   ],
   "source": [
    "qs = BlogPost.objects.all()\n",
    "qs.count()\n",
    "# BlogPost.objects.all().delete()"
   ]
  },
  {
   "cell_type": "code",
   "execution_count": 9,
   "id": "501cecd3-68f8-4555-8555-db76c5317cdf",
   "metadata": {},
   "outputs": [],
   "source": [
    "client = genai.Client(api_key=config(\"GEMINI_API_KEY\"))\n",
    "key = api_key=config(\"GEMINI_API_KEY\")\n",
    "# key"
   ]
  },
  {
   "cell_type": "code",
   "execution_count": 10,
   "id": "db951938-f556-48f4-83ce-bdafae090cda",
   "metadata": {},
   "outputs": [],
   "source": [
    "def get_embedding(text, task_type=\"retrieval_document\"):\n",
    "    \"\"\"\n",
    "    Generates an embedding for a given text using the experimental\n",
    "    gemini-embedding-exp-03-07 model with 3072 dimensions.\n",
    "    Ensure GEMINI_API_KEY is set in your Django settings.\n",
    "    \"\"\"\n",
    "\n",
    "    try:\n",
    "        client = genai.Client(api_key=config(\"GEMINI_API_KEY\"))\n",
    "        response = client.models.embed_content(\n",
    "            model=\"gemini-embedding-exp-03-07\",\n",
    "            contents=text,\n",
    "            config=types.EmbedContentConfig(output_dimensionality=3072, task_type=\"RETRIEVAL_DOCUMENT\")\n",
    "        )\n",
    "        # Access the actual list of float values from the ContentEmbedding object\n",
    "        if response.embeddings and len(response.embeddings) > 0:\n",
    "            # response.embeddings is a list of ContentEmbedding objects\n",
    "            # Each ContentEmbedding object has a 'values' attribute which is the list of floats\n",
    "            return response.embeddings[0].values\n",
    "        else:\n",
    "            print(\"Warning: No embeddings found in the response.\")\n",
    "            return None\n",
    "\n",
    "    except Exception as e:\n",
    "        print(f\"Error generating Gemini embedding: {e}\")\n",
    "        return None"
   ]
  },
  {
   "cell_type": "code",
   "execution_count": 10,
   "id": "a5422eed-c3d6-4087-b575-67dfd88e53d1",
   "metadata": {},
   "outputs": [],
   "source": [
    "query = \"we are opened today\"\n",
    "query_embedding = get_embedding(text=query)"
   ]
  },
  {
   "cell_type": "code",
   "execution_count": 12,
   "id": "17166c2a-b5d8-43cb-96d8-8a0f9f975cfa",
   "metadata": {},
   "outputs": [
    {
     "name": "stdout",
     "output_type": "stream",
     "text": [
      "Embedded: Blog Post 1\n",
      "Embedded: Blog Post 2\n",
      "Embedded: Blog Post 3\n",
      "Embedded: Blog Post 4\n"
     ]
    }
   ],
   "source": [
    "import time\n",
    "for obj in qs:\n",
    "    if obj.embedding is None:\n",
    "        print(f\"Embedded: {obj.title}\")\n",
    "        # obj.embedding = get_embedding(obj.get_embedding_text_raw())\n",
    "        obj.save()\n",
    "        time.sleep(10) \n",
    "        # You can use batch embedding\n",
    "        "
   ]
  },
  {
   "cell_type": "code",
   "execution_count": 13,
   "id": "630db734-9ced-4a79-8280-095c0921db07",
   "metadata": {},
   "outputs": [],
   "source": [
    "# BlogPost.objects.all().delete()"
   ]
  },
  {
   "cell_type": "code",
   "execution_count": 14,
   "id": "f9ee78b0-026d-4dd8-8a0c-27c131d82865",
   "metadata": {},
   "outputs": [],
   "source": [
    "query = \"The man is dark and woman is light\"\n",
    "query_emedding = get_embedding(query)"
   ]
  },
  {
   "cell_type": "code",
   "execution_count": 15,
   "id": "99174250-8f14-42dc-82d2-81f1abd8d700",
   "metadata": {},
   "outputs": [],
   "source": [
    "# BlogPost.objects.filter(embedding=query_emedding)"
   ]
  },
  {
   "cell_type": "code",
   "execution_count": 16,
   "id": "82291e1d-7e86-41a1-8219-6fa07638e94d",
   "metadata": {},
   "outputs": [
    {
     "name": "stdout",
     "output_type": "stream",
     "text": [
      "Blog Post 4 0.0 100.0\n",
      "Blog Post 1 0.14984181969886445 85.01581803011355\n",
      "Blog Post 2 0.1519971489906311 84.80028510093689\n",
      "Blog Post 3 0.21231000533491107 78.76899946650889\n"
     ]
    }
   ],
   "source": [
    "from pgvector.django import CosineDistance\n",
    "from django.db.models import F\n",
    "qs = BlogPost.objects.annotate(\n",
    "    distance=CosineDistance('embedding', query_emedding),\n",
    "    similarity= 1 - F(\"distance\")).order_by(\"distance\")\n",
    "\n",
    "for obj in qs:\n",
    "    print(obj.title, obj.distance, obj.similarity*100)"
   ]
  },
  {
   "cell_type": "code",
   "execution_count": 17,
   "id": "424f6242-c7d3-4f13-9361-c8c1d0f0c275",
   "metadata": {},
   "outputs": [
    {
     "name": "stdout",
     "output_type": "stream",
     "text": [
      "Test with models/gemini-embedding-exp-03-07: 3072 dimensions\n"
     ]
    }
   ],
   "source": [
    "from llama_index.embeddings.google_genai import GoogleGenAIEmbedding\n",
    "from google.genai.types import EmbedContentConfig\n",
    "\n",
    "\n",
    "EMBEDDING_MODEL = config(\"EMBEDDING_MODEL\", default=\"gemini-embedding-exp-03-07\")\n",
    "EMBEDDING_LENGTH = config(\"EMBEDDING_LENGTH\", default=3072, cast=int)\n",
    "GEMINI_API_KEY = config(\"GEMINI_API_KEY\", cast=str)\n",
    "\n",
    "# Test with the more robust model\n",
    "embed_model_test = GoogleGenAIEmbedding(\n",
    "    model_name=EMBEDDING_MODEL,\n",
    "    api_key=GEMINI_API_KEY,\n",
    "    dimensions=EMBEDDING_LENGTH,\n",
    ")\n",
    "\n",
    "sample_text = \"Verify this model's output dimension.\"\n",
    "embedding_test = embed_model_test.get_text_embedding(sample_text)\n",
    "print(f\"Test with {EMBEDDING_MODEL}: {len(embedding_test)} dimensions\")\n",
    "\n"
   ]
  },
  {
   "cell_type": "code",
   "execution_count": null,
   "id": "a578f1a5-871f-4aa3-9bb3-3a166495171d",
   "metadata": {},
   "outputs": [],
   "source": []
  }
 ],
 "metadata": {
  "kernelspec": {
   "display_name": "Python 3 (ipykernel)",
   "language": "python",
   "name": "python3"
  },
  "language_info": {
   "codemirror_mode": {
    "name": "ipython",
    "version": 3
   },
   "file_extension": ".py",
   "mimetype": "text/x-python",
   "name": "python",
   "nbconvert_exporter": "python",
   "pygments_lexer": "ipython3",
   "version": "3.11.9"
  }
 },
 "nbformat": 4,
 "nbformat_minor": 5
}
