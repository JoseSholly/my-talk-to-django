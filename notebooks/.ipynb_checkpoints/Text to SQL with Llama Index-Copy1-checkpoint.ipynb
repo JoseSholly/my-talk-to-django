{
 "cells": [
  {
   "cell_type": "code",
   "execution_count": 1,
   "id": "c0b61227-1e29-42b8-8035-9650d3a647d7",
   "metadata": {},
   "outputs": [],
   "source": [
    "import setup\n",
    "\n",
    "setup.init_django()"
   ]
  },
  {
   "cell_type": "code",
   "execution_count": 2,
   "id": "571db70f-b3c5-479b-a8b0-60fc910f2580",
   "metadata": {},
   "outputs": [],
   "source": [
    "from decouple import config"
   ]
  },
  {
   "cell_type": "code",
   "execution_count": 3,
   "id": "80462221-3008-4a36-be57-12de161a236b",
   "metadata": {},
   "outputs": [],
   "source": [
    "from blog.models import BlogPost\n",
    "from rag import db as rag_db, settings as rag_settings"
   ]
  },
  {
   "cell_type": "code",
   "execution_count": 4,
   "id": "f9f3f67a-5269-4b6d-ad03-a75e385261c7",
   "metadata": {},
   "outputs": [],
   "source": [
    "from sqlalchemy import (\n",
    "    create_engine,\n",
    "    inspect,\n",
    ")\n",
    "\n",
    "from llama_index.core import SQLDatabase\n",
    "from llama_index.core.query_engine import NLSQLTableQueryEngine\n",
    "from llama_index.core.retrievers import NLSQLRetriever"
   ]
  },
  {
   "cell_type": "code",
   "execution_count": 5,
   "id": "658363b3-3d9d-4ddf-ac19-e733a20a8234",
   "metadata": {},
   "outputs": [],
   "source": [
    "# Initialize the Llama settings\n",
    "rag_settings.init()\n",
    "\n",
    "# Get Database pool url from env\n",
    "vector_database_url = rag_db.get_database_url(use_pooling=False)"
   ]
  },
  {
   "cell_type": "code",
   "execution_count": 6,
   "id": "51d1f841-1098-417b-bbf7-78a042993c43",
   "metadata": {},
   "outputs": [],
   "source": [
    "engine = create_engine(vector_database_url)"
   ]
  },
  {
   "cell_type": "code",
   "execution_count": 7,
   "id": "98e7215f-2a70-475d-a4a9-6e72272c5e04",
   "metadata": {},
   "outputs": [
    {
     "data": {
      "text/plain": [
       "['django_migrations',\n",
       " 'django_content_type',\n",
       " 'auth_permission',\n",
       " 'auth_group',\n",
       " 'auth_group_permissions',\n",
       " 'auth_user',\n",
       " 'auth_user_groups',\n",
       " 'auth_user_user_permissions',\n",
       " 'django_admin_log',\n",
       " 'django_session',\n",
       " 'blog_blogpost',\n",
       " 'products_product',\n",
       " 'products_embedding']"
      ]
     },
     "execution_count": 7,
     "metadata": {},
     "output_type": "execute_result"
    }
   ],
   "source": [
    "inspect(engine).get_table_names()"
   ]
  },
  {
   "cell_type": "code",
   "execution_count": 8,
   "id": "3675089f-a882-4644-85e9-cb7e9231cea2",
   "metadata": {},
   "outputs": [],
   "source": [
    "tables =[]\n",
    "models = [BlogPost]\n",
    "for model in models:\n",
    "    table = model._meta.db_table\n",
    "    tables.append(table)"
   ]
  },
  {
   "cell_type": "code",
   "execution_count": 9,
   "id": "1a632d31-977b-400a-b5ca-a8060c29fead",
   "metadata": {},
   "outputs": [
    {
     "data": {
      "text/plain": [
       "['blog_blogpost']"
      ]
     },
     "execution_count": 9,
     "metadata": {},
     "output_type": "execute_result"
    }
   ],
   "source": [
    "tables"
   ]
  },
  {
   "cell_type": "code",
   "execution_count": 10,
   "id": "68a86940-2e1f-4fa9-83c2-eb327e776eef",
   "metadata": {},
   "outputs": [
    {
     "name": "stderr",
     "output_type": "stream",
     "text": [
      "C:\\Users\\HP\\Documents\\Git\\my-talk-to-django\\venv\\Lib\\site-packages\\llama_index\\core\\utilities\\sql_wrapper.py:112: SAWarning: Did not recognize type 'vector' of column 'embedding'\n",
      "  self._metadata.reflect(\n"
     ]
    }
   ],
   "source": [
    "sql_database = SQLDatabase(engine, include_tables=tables)"
   ]
  },
  {
   "cell_type": "code",
   "execution_count": 11,
   "id": "bdbc651b-5d58-43fc-aa3d-4e346769a498",
   "metadata": {},
   "outputs": [],
   "source": [
    "sql_query_engine = NLSQLTableQueryEngine(\n",
    "    sql_database=sql_database,\n",
    "    tables=tables,\n",
    ")"
   ]
  },
  {
   "cell_type": "code",
   "execution_count": 12,
   "id": "05981493-3da5-4eea-98d3-6f9b38b83169",
   "metadata": {},
   "outputs": [
    {
     "name": "stderr",
     "output_type": "stream",
     "text": [
      "C:\\Users\\HP\\Documents\\Git\\my-talk-to-django\\venv\\Lib\\site-packages\\llama_index\\core\\utilities\\sql_wrapper.py:169: SAWarning: Did not recognize type 'vector' of column 'embedding'\n",
      "  for column in self._inspector.get_columns(table_name, schema=self._schema):\n"
     ]
    },
    {
     "data": {
      "text/plain": [
       "Response(response='The most recent blog post ID is 270.\\n', source_nodes=[NodeWithScore(node=TextNode(id_='9f88bae1-e4aa-42bc-906b-3c9142c2c88e', embedding=None, metadata={'sql_query': 'SELECT id FROM blog_blogpost ORDER BY timestamp DESC LIMIT 1;', 'result': [(270,)], 'col_keys': ['id']}, excluded_embed_metadata_keys=['sql_query', 'result', 'col_keys'], excluded_llm_metadata_keys=['sql_query', 'result', 'col_keys'], relationships={}, metadata_template='{key}: {value}', metadata_separator='\\n', text='[(270,)]', mimetype='text/plain', start_char_idx=None, end_char_idx=None, metadata_seperator='\\n', text_template='{metadata_str}\\n\\n{content}'), score=None)], metadata={'9f88bae1-e4aa-42bc-906b-3c9142c2c88e': {'sql_query': 'SELECT id FROM blog_blogpost ORDER BY timestamp DESC LIMIT 1;', 'result': [(270,)], 'col_keys': ['id']}, 'sql_query': 'SELECT id FROM blog_blogpost ORDER BY timestamp DESC LIMIT 1;', 'result': [(270,)], 'col_keys': ['id']})"
      ]
     },
     "execution_count": 12,
     "metadata": {},
     "output_type": "execute_result"
    }
   ],
   "source": [
    "response =  sql_query_engine.query(\"what is most recent blog id\")\n",
    "response"
   ]
  },
  {
   "cell_type": "code",
   "execution_count": 13,
   "id": "6ea6b7ab-5ec3-4a7e-8bd6-351fcad08507",
   "metadata": {},
   "outputs": [
    {
     "name": "stdout",
     "output_type": "stream",
     "text": [
      "[(270,)]\n"
     ]
    }
   ],
   "source": [
    "for node in response.source_nodes:\n",
    "    print(node.node.get_content())"
   ]
  },
  {
   "cell_type": "code",
   "execution_count": 14,
   "id": "381a3295-afe7-4313-8440-a5735f10f448",
   "metadata": {},
   "outputs": [],
   "source": [
    "nl_sql_retriever = NLSQLRetriever(\n",
    "    sql_database, tables=tables, return_raw=True\n",
    ")\n",
    "\n",
    "r = nl_sql_retriever.retrieve(\"What is my least most recent blog post?\")"
   ]
  },
  {
   "cell_type": "code",
   "execution_count": 15,
   "id": "df87776c-0890-4ef4-96ca-cf43b74c94c4",
   "metadata": {},
   "outputs": [
    {
     "name": "stdout",
     "output_type": "stream",
     "text": [
      "[NodeWithScore(node=TextNode(id_='919aa98b-92b2-4066-90ca-046059be9efc', embedding=None, metadata={'sql_query': 'SELECT blog_blogpost.title FROM blog_blogpost ORDER BY blog_blogpost.timestamp ASC LIMIT 1;', 'result': [('Blog Post 1',)], 'col_keys': ['title']}, excluded_embed_metadata_keys=['sql_query', 'result', 'col_keys'], excluded_llm_metadata_keys=['sql_query', 'result', 'col_keys'], relationships={}, metadata_template='{key}: {value}', metadata_separator='\\n', text=\"[('Blog Post 1',)]\", mimetype='text/plain', start_char_idx=None, end_char_idx=None, metadata_seperator='\\n', text_template='{metadata_str}\\n\\n{content}'), score=None)]\n",
      "Node ID: 919aa98b-92b2-4066-90ca-046059be9efc\n",
      "Text: [('Blog Post 1',)]\n",
      "Score: None\n",
      "\n",
      "{'sql_query': 'SELECT blog_blogpost.title FROM blog_blogpost ORDER BY blog_blogpost.timestamp ASC LIMIT 1;', 'result': [('Blog Post 1',)], 'col_keys': ['title']}\n"
     ]
    }
   ],
   "source": [
    "print(r)\n",
    "for node in r:\n",
    "    print(node)\n",
    "    print(node.metadata)"
   ]
  },
  {
   "cell_type": "code",
   "execution_count": null,
   "id": "1657c108-f39d-419d-9c23-84093009d89a",
   "metadata": {},
   "outputs": [],
   "source": []
  }
 ],
 "metadata": {
  "kernelspec": {
   "display_name": "Python 3 (ipykernel)",
   "language": "python",
   "name": "python3"
  },
  "language_info": {
   "codemirror_mode": {
    "name": "ipython",
    "version": 3
   },
   "file_extension": ".py",
   "mimetype": "text/x-python",
   "name": "python",
   "nbconvert_exporter": "python",
   "pygments_lexer": "ipython3",
   "version": "3.11.9"
  }
 },
 "nbformat": 4,
 "nbformat_minor": 5
}
