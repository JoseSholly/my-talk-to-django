{
 "cells": [
  {
   "cell_type": "code",
   "execution_count": 1,
   "id": "d29f06b6-b672-4496-b075-23737283ae44",
   "metadata": {},
   "outputs": [],
   "source": [
    "import setup \n",
    "setup.init_django()"
   ]
  },
  {
   "cell_type": "code",
   "execution_count": 2,
   "id": "06e5fac9-d912-4403-a2b0-c0289062d8e0",
   "metadata": {},
   "outputs": [],
   "source": [
    "from google import genai\n",
    "from google.genai import types\n",
    "from decouple import config\n",
    "from products.models import Embedding\n",
    "\n",
    "EMBEDDING_MODEL = config(\"EMBEDDING_MODEL\", default=\"gemini-embedding-exp-03-07\")"
   ]
  },
  {
   "cell_type": "code",
   "execution_count": 3,
   "id": "61459bec-cddc-4ec8-8dc8-8259ec4bc351",
   "metadata": {},
   "outputs": [],
   "source": [
    "from blog.models import BlogPost\n",
    "RECREATE_DATA = True"
   ]
  },
  {
   "cell_type": "code",
   "execution_count": 4,
   "id": "1da371e5-26c0-44b5-a182-c313c8768000",
   "metadata": {},
   "outputs": [],
   "source": [
    "def get_embedding(text, task_type=\"retrieval_document\"):\n",
    "    \"\"\"\n",
    "    Generates an embedding for a given text using the experimental\n",
    "    gemini-embedding-exp-03-07 model with 3072 dimensions.\n",
    "    Ensure GEMINI_API_KEY is set in your Django settings.\n",
    "    \"\"\"\n",
    "\n",
    "    try:\n",
    "        client = genai.Client(api_key=config(\"GEMINI_API_KEY\"))\n",
    "        response = client.models.embed_content(\n",
    "            model=\"gemini-embedding-exp-03-07\",\n",
    "            contents=text,\n",
    "            config=types.EmbedContentConfig(output_dimensionality=3072, task_type=\"RETRIEVAL_DOCUMENT\")\n",
    "        )\n",
    "        # Access the actual list of float values from the ContentEmbedding object\n",
    "        if response.embeddings and len(response.embeddings) > 0:\n",
    "            # response.embeddings is a list of ContentEmbedding objects\n",
    "            # Each ContentEmbedding object has a 'values' attribute which is the list of floats\n",
    "            return response.embeddings[0].values\n",
    "        else:\n",
    "            print(\"Warning: No embeddings found in the response.\")\n",
    "            return None\n",
    "\n",
    "    except Exception as e:\n",
    "        print(f\"Error generating Gemini embedding: {e}\")\n",
    "        return None"
   ]
  },
  {
   "cell_type": "code",
   "execution_count": 5,
   "id": "7ee12c32-587d-4eac-a44e-6114f6f405de",
   "metadata": {},
   "outputs": [],
   "source": [
    "query = \"The man is dark and woman is light\"\n",
    "query_emedding = get_embedding(query)"
   ]
  },
  {
   "cell_type": "code",
   "execution_count": 6,
   "id": "50811673-7cbd-4580-8a96-6b5dd5b24eb5",
   "metadata": {},
   "outputs": [
    {
     "name": "stdout",
     "output_type": "stream",
     "text": [
      "Blog Post 4 0.0 100.0\n",
      "Blog Post 1 0.14984181969886445 85.01581803011355\n",
      "Blog Post 2 0.1519971489906311 84.80028510093689\n",
      "Blog Post 3 0.21231000533491107 78.76899946650889\n"
     ]
    }
   ],
   "source": [
    "from pgvector.django import CosineDistance\n",
    "from django.db.models import F\n",
    "qs = BlogPost.objects.annotate(\n",
    "    distance=CosineDistance('embedding', query_emedding),\n",
    "    similarity= 1 - F(\"distance\")).order_by(\"distance\")\n",
    "\n",
    "for obj in qs:\n",
    "    print(obj.title, obj.distance, obj.similarity*100)"
   ]
  },
  {
   "cell_type": "code",
   "execution_count": null,
   "id": "e511cd46-4848-4bde-b078-4e8131c0a569",
   "metadata": {},
   "outputs": [],
   "source": []
  },
  {
   "cell_type": "code",
   "execution_count": null,
   "id": "8e1a8314-0615-4d8e-96a8-87350854f3c7",
   "metadata": {},
   "outputs": [],
   "source": []
  },
  {
   "cell_type": "code",
   "execution_count": null,
   "id": "3ce1b57e-918e-4ab9-9f74-8805e6a6ee9a",
   "metadata": {},
   "outputs": [],
   "source": []
  }
 ],
 "metadata": {
  "kernelspec": {
   "display_name": "Python 3 (ipykernel)",
   "language": "python",
   "name": "python3"
  },
  "language_info": {
   "codemirror_mode": {
    "name": "ipython",
    "version": 3
   },
   "file_extension": ".py",
   "mimetype": "text/x-python",
   "name": "python",
   "nbconvert_exporter": "python",
   "pygments_lexer": "ipython3",
   "version": "3.11.9"
  }
 },
 "nbformat": 4,
 "nbformat_minor": 5
}
