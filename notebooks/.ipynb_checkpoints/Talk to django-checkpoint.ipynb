{
 "cells": [
  {
   "cell_type": "code",
   "execution_count": null,
   "id": "6ccb05f0-913a-42c6-9c64-ac2878065434",
   "metadata": {},
   "outputs": [],
   "source": [
    "import setup\n",
    "\n",
    "setup.init_django()"
   ]
  },
  {
   "cell_type": "code",
   "execution_count": null,
   "id": "d4b465e0-5167-4274-861d-1792d2aa108e",
   "metadata": {},
   "outputs": [],
   "source": [
    "from rag import (\n",
    "    db as rag_db, \n",
    "    engines as rag_engines,\n",
    "    settings as rag_settings, \n",
    "    updaters as rag_updaters,\n",
    ")"
   ]
  },
  {
   "cell_type": "code",
   "execution_count": null,
   "id": "bcec43d6-a75b-4ddb-8c96-6198d8df9d95",
   "metadata": {},
   "outputs": [],
   "source": [
    "from typing import Optional, Union\n",
    "from sqlalchemy import create_engine, text"
   ]
  },
  {
   "cell_type": "code",
   "execution_count": null,
   "id": "a34bb234-9ec5-4898-87d1-d231ca0461e7",
   "metadata": {},
   "outputs": [],
   "source": [
    "rag_settings.init()\n",
    "rag_db.init_vector_db()\n",
    "# rag_updaters.update_llama_index_documents(use_saved_embeddings=True)"
   ]
  },
  {
   "cell_type": "code",
   "execution_count": null,
   "id": "e8d1c260-039a-4bc8-afdd-14b9e8c43478",
   "metadata": {},
   "outputs": [],
   "source": [
    "vector_index = rag_engines.get_semantic_query_index()\n",
    "semantic_query_retriever = rag_engines.get_semantic_query_retriever_engine()\n",
    "sql_query_engine = rag_engines.get_sql_query_engine()"
   ]
  },
  {
   "cell_type": "code",
   "execution_count": null,
   "id": "2fbfae7f-f986-4e7f-ad3d-57d469cff669",
   "metadata": {},
   "outputs": [],
   "source": [
    "print(rag_settings.VECTOR_DB_NAME, rag_settings.VECTOR_DB_TABLE_NAME)"
   ]
  },
  {
   "cell_type": "code",
   "execution_count": null,
   "id": "e3d9eb52-2210-4257-81f5-78f6b62eacd1",
   "metadata": {},
   "outputs": [],
   "source": [
    "from llama_index.core.tools import QueryEngineTool\n",
    "\n",
    "vector_tool = QueryEngineTool.from_defaults(\n",
    "    query_engine=semantic_query_retriever,\n",
    "    description=(\n",
    "        f\"Useful for answering semantic questions about different blog posts\"\n",
    "    ),\n",
    ")"
   ]
  },
  {
   "cell_type": "code",
   "execution_count": null,
   "id": "a8b48655-ebd9-4fe8-b607-f892173fea1a",
   "metadata": {},
   "outputs": [],
   "source": [
    "sql_tool = QueryEngineTool.from_defaults(\n",
    "    query_engine=sql_query_engine,\n",
    "    description=(\n",
    "        \"Useful for translating a natural language query into a SQL query over\"\n",
    "        \" a table containing: blog posts and page views each blog post\"\n",
    "    ),\n",
    ")"
   ]
  },
  {
   "cell_type": "code",
   "execution_count": null,
   "id": "9279ea20-39d6-4407-b447-cb10ea3eea3b",
   "metadata": {},
   "outputs": [],
   "source": [
    "import logging\n",
    "from typing import Any, Optional, Union\n",
    "\n",
    "from llama_index.core.callbacks.base import CallbackManager\n",
    "from llama_index.core.query_engine.sql_vector_query_engine import DEFAULT_SQL_VECTOR_SYNTHESIS_PROMPT\n",
    "from llama_index.core.query_engine import SQLAutoVectorQueryEngine\n",
    "from llama_index.core.indices.struct_store.sql_query import (\n",
    "    BaseSQLTableQueryEngine,\n",
    "    NLSQLTableQueryEngine,\n",
    ")\n",
    "from llama_index.core.indices.vector_store.retrievers.auto_retriever import (\n",
    "    VectorIndexAutoRetriever,\n",
    ")\n",
    "from llama_index.core.llms.llm import LLM\n",
    "from llama_index.core.prompts.base import BasePromptTemplate, PromptTemplate\n",
    "from llama_index.core.prompts.mixin import PromptDictType, PromptMixinType\n",
    "from llama_index.core.query_engine.retriever_query_engine import (\n",
    "    RetrieverQueryEngine,\n",
    ")\n",
    "from llama_index.core.query_engine.sql_join_query_engine import (\n",
    "    SQLAugmentQueryTransform,\n",
    "    SQLJoinQueryEngine,\n",
    ")\n",
    "from llama_index.core.selectors.llm_selectors import LLMSingleSelector\n",
    "from llama_index.core.selectors.pydantic_selectors import PydanticSingleSelector\n",
    "from llama_index.core.tools.query_engine import QueryEngineTool\n",
    "\n",
    "\n",
    "class MySQLAutoVectorQueryEngine(SQLAutoVectorQueryEngine):\n",
    "    def __init__(\n",
    "        self,\n",
    "        sql_query_tool: QueryEngineTool,\n",
    "        vector_query_tool: QueryEngineTool,\n",
    "        selector: Optional[Union[LLMSingleSelector, PydanticSingleSelector]] = None,\n",
    "        llm: Optional[LLM] = None,\n",
    "        # service_context: Optional[ServiceContext] = None,\n",
    "        \n",
    "        sql_vector_synthesis_prompt: Optional[BasePromptTemplate] = None,\n",
    "        sql_augment_query_transform: Optional[SQLAugmentQueryTransform] = None,\n",
    "        use_sql_vector_synthesis: bool = True,\n",
    "        callback_manager: Optional[CallbackManager] = None,\n",
    "        verbose: bool = True,\n",
    "    ) -> None:\n",
    "        \"\"\"Initialize params.\"\"\"\n",
    "        # validate that the query engines are of the right type\n",
    "        if not isinstance(\n",
    "            sql_query_tool.query_engine,\n",
    "            (BaseSQLTableQueryEngine, NLSQLTableQueryEngine),\n",
    "        ):\n",
    "            raise ValueError(\n",
    "                \"sql_query_tool.query_engine must be an instance of \"\n",
    "                \"BaseSQLTableQueryEngine or NLSQLTableQueryEngine\"\n",
    "            )\n",
    "        if not isinstance(vector_query_tool.query_engine, RetrieverQueryEngine):\n",
    "            raise ValueError(\n",
    "                \"vector_query_tool.query_engine must be an instance of \"\n",
    "                \"RetrieverQueryEngine\"\n",
    "            )\n",
    "        # if not isinstance(\n",
    "        #     vector_query_tool.query_engine.retriever, VectorIndexAutoRetriever\n",
    "        # ):\n",
    "        #     raise ValueError(\n",
    "        #         \"vector_query_tool.query_engine.retriever must be an instance \"\n",
    "        #         \"of VectorIndexAutoRetriever\"\n",
    "        #     )\n",
    "\n",
    "        sql_vector_synthesis_prompt = (\n",
    "            sql_vector_synthesis_prompt or DEFAULT_SQL_VECTOR_SYNTHESIS_PROMPT\n",
    "        )\n",
    "        SQLJoinQueryEngine.__init__( # This class also needs to be imported\n",
    "            self,\n",
    "            sql_query_tool,\n",
    "            vector_query_tool,\n",
    "            selector=selector,\n",
    "            llm=llm,\n",
    "            # service_context=service_context,\n",
    "            sql_join_synthesis_prompt=sql_vector_synthesis_prompt,\n",
    "            sql_augment_query_transform=sql_augment_query_transform,\n",
    "            use_sql_join_synthesis=use_sql_vector_synthesis,\n",
    "            callback_manager=callback_manager,\n",
    "            verbose=verbose,\n",
    "        )"
   ]
  },
  {
   "cell_type": "code",
   "execution_count": null,
   "id": "101de0c5-14f3-424f-a4c0-6c63425d1aef",
   "metadata": {},
   "outputs": [],
   "source": [
    "# from llama_index.core.query_engine import SQLAutoVectorQueryEngine\n",
    "\n",
    "query_engine = MySQLAutoVectorQueryEngine(\n",
    "    sql_tool, \n",
    "    vector_tool,\n",
    ")"
   ]
  },
  {
   "cell_type": "code",
   "execution_count": null,
   "id": "162b05b0-4330-49a5-9281-6e073f29d87b",
   "metadata": {},
   "outputs": [],
   "source": [
    "response = query_engine.query(\n",
    "    \"What kind of Monopoly and network effects is discussed?\"\n",
    ")"
   ]
  },
  {
   "cell_type": "code",
   "execution_count": null,
   "id": "c5656d8f-e80c-4e4b-a611-4b4bcf406894",
   "metadata": {},
   "outputs": [],
   "source": [
    "response.response"
   ]
  },
  {
   "cell_type": "code",
   "execution_count": null,
   "id": "fa978283-0bc1-4db5-9e98-f4f5a95eee8b",
   "metadata": {},
   "outputs": [],
   "source": [
    "response = query_engine.query(\n",
    "    \"What kind of org is discussed?\"\n",
    ")\n",
    "response.response"
   ]
  },
  {
   "cell_type": "code",
   "execution_count": null,
   "id": "8916be56-375a-4709-aee7-f6676f4670b5",
   "metadata": {},
   "outputs": [],
   "source": [
    "response = query_engine.query(\n",
    "    \"Are are the top 5 most viewed blog posts? What keywords do their content have?\"\n",
    ")"
   ]
  },
  {
   "cell_type": "code",
   "execution_count": null,
   "id": "b53d2501-c265-432d-94c6-ed46e1cc99de",
   "metadata": {},
   "outputs": [],
   "source": [
    "from IPython.display import Markdown, display\n",
    "\n",
    "display(Markdown(response.response))"
   ]
  },
  {
   "cell_type": "code",
   "execution_count": null,
   "id": "4c27d3b7-acc5-49f5-91b1-e1c64ba964de",
   "metadata": {},
   "outputs": [],
   "source": [
    "response = query_engine.query(\n",
    "    \"What are the top 5 least viewed blog posts from today?\"\n",
    ")\n",
    "print(response.response)"
   ]
  },
  {
   "cell_type": "code",
   "execution_count": null,
   "id": "b753ffa0-4423-4d32-8c2a-cb1114d63dab",
   "metadata": {},
   "outputs": [],
   "source": [
    "display(Markdown(response.response))"
   ]
  },
  {
   "cell_type": "code",
   "execution_count": null,
   "id": "a8a7abd1-6e86-4c6c-8e58-0a0f721cc327",
   "metadata": {},
   "outputs": [],
   "source": []
  }
 ],
 "metadata": {
  "kernelspec": {
   "display_name": "Python 3 (ipykernel)",
   "language": "python",
   "name": "python3"
  },
  "language_info": {
   "codemirror_mode": {
    "name": "ipython",
    "version": 3
   },
   "file_extension": ".py",
   "mimetype": "text/x-python",
   "name": "python",
   "nbconvert_exporter": "python",
   "pygments_lexer": "ipython3",
   "version": "3.11.9"
  }
 },
 "nbformat": 4,
 "nbformat_minor": 5
}
