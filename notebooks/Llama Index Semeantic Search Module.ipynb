{
 "cells": [
  {
   "cell_type": "code",
   "execution_count": 1,
   "id": "7d1d1cb5-ff5d-49cb-80b2-521be83721a5",
   "metadata": {},
   "outputs": [],
   "source": [
    "import setup\n",
    "\n",
    "setup.init_django()"
   ]
  },
  {
   "cell_type": "code",
   "execution_count": 2,
   "id": "d3c3f97f-5ebe-4841-9918-6f38701e48f2",
   "metadata": {},
   "outputs": [
    {
     "name": "stdout",
     "output_type": "stream",
     "text": [
      "Syncing 4 docs\n",
      "Sync done.\n"
     ]
    }
   ],
   "source": [
    "from rag import engines, sync\n",
    "\n",
    "sync.sync_blog_docs()"
   ]
  },
  {
   "cell_type": "code",
   "execution_count": 3,
   "id": "19bd7f6f-629d-4182-ae00-9f0dc5fbf407",
   "metadata": {},
   "outputs": [],
   "source": [
    "query_engine = engines.get_semantic_query_engine()"
   ]
  },
  {
   "cell_type": "code",
   "execution_count": 4,
   "id": "f350551e-effe-466a-a980-95fcfc487c46",
   "metadata": {},
   "outputs": [
    {
     "name": "stdout",
     "output_type": "stream",
     "text": [
      "Embedding length: 3072\n"
     ]
    }
   ],
   "source": [
    "from rag import embeddings\n",
    "embedding = embeddings.embed_model\n",
    "sample_text = \"Test text\"\n",
    "embedding_result = embedding.get_text_embedding(sample_text)\n",
    "print(f\"Embedding length: {len(embedding_result)}\")"
   ]
  },
  {
   "cell_type": "code",
   "execution_count": 5,
   "id": "aae04dd4-2174-4f11-926d-6e438269e51b",
   "metadata": {},
   "outputs": [
    {
     "name": "stdout",
     "output_type": "stream",
     "text": [
      "Raw embedding type: <class 'str'>\n",
      "Stored embedding length: 39410\n"
     ]
    }
   ],
   "source": [
    "import psycopg2\n",
    "from decouple import config\n",
    "\n",
    "db_url = config(\"DATABASE_URL_POOL\")  # Ensure this matches db.get_database_url()\n",
    "conn = psycopg2.connect(db_url)\n",
    "cursor = conn.cursor()\n",
    "cursor.execute(\"SELECT embedding FROM public.data_blogpost LIMIT 1\")\n",
    "sample_data = cursor.fetchone()\n",
    "if sample_data:\n",
    "    embedding = sample_data[0]\n",
    "    print(f\"Raw embedding type: {type(embedding)}\")\n",
    "    print(f\"Stored embedding length: {len(embedding)}\")\n",
    "else:\n",
    "    print(\"No data found in table\")\n",
    "cursor.close()\n",
    "conn.close()"
   ]
  },
  {
   "cell_type": "code",
   "execution_count": 6,
   "id": "33a1712a-0139-4a5a-8612-b6ac8bf7c54b",
   "metadata": {},
   "outputs": [
    {
     "name": "stdout",
     "output_type": "stream",
     "text": [
      "Score 0.6710816825725702\n",
      "Contents The man is dark and woman is light\n",
      "Metadata {'pk': 273, 'title': 'Blog Post 4'}\n",
      "Score 0.6573250677175947\n",
      "Contents The man is looking at the woman\n",
      "Metadata {'pk': 270, 'title': 'Blog Post 1'}\n"
     ]
    }
   ],
   "source": [
    "response = query_engine.query(\"I am a man\")\n",
    "nodes = response.source_nodes\n",
    "\n",
    "for node in response.source_nodes:\n",
    "    print(\"Score\", node.score)\n",
    "    print(\"Contents\", node.node.get_content())\n",
    "    print(\"Metadata\", node.node.metadata)"
   ]
  },
  {
   "cell_type": "code",
   "execution_count": 7,
   "id": "876dc896-0a33-4c3d-b37a-2e148a386334",
   "metadata": {},
   "outputs": [],
   "source": [
    "query_retriever_engine = engines.get_semantic_query_retriever_engine(top_k=5)"
   ]
  },
  {
   "cell_type": "code",
   "execution_count": 8,
   "id": "98426f93-2bd3-464e-946e-a69e8b2bb92d",
   "metadata": {},
   "outputs": [],
   "source": [
    "ranked_response = query_retriever_engine.query(\"The sun is hot\")"
   ]
  },
  {
   "cell_type": "code",
   "execution_count": 9,
   "id": "a0b87f76-7d1d-436d-973a-d095cab94ee2",
   "metadata": {},
   "outputs": [
    {
     "name": "stdout",
     "output_type": "stream",
     "text": [
      "Score 0.7174792503559445\n",
      "Contents The day is bright\n",
      "Metadata {'pk': 272, 'title': 'Blog Post 3'}\n",
      "Score 0.633011064945993\n",
      "Contents The man is dark and woman is light\n",
      "Metadata {'pk': 273, 'title': 'Blog Post 4'}\n",
      "Score 0.6065898952904399\n",
      "Contents The man is looking at the woman\n",
      "Metadata {'pk': 270, 'title': 'Blog Post 1'}\n",
      "Score 0.6052388784146988\n",
      "Contents The woman is looking at the man\n",
      "Metadata {'pk': 271, 'title': 'Blog Post 2'}\n"
     ]
    }
   ],
   "source": [
    "for node in ranked_response.source_nodes:\n",
    "    print(\"Score\", node.score)\n",
    "    print(\"Contents\", node.node.get_content())\n",
    "    print(\"Metadata\", node.node.metadata)"
   ]
  },
  {
   "cell_type": "code",
   "execution_count": 8,
   "id": "104ca677-caf9-4f0d-8a52-6c0c9c53d078",
   "metadata": {},
   "outputs": [],
   "source": [
    "# from llama_index.core import Settings\n",
    "# from rag.engines import get_vector_store\n",
    "\n",
    "# vector_store = get_vector_store()\n",
    "# embeddings = [Settings.embed_model.get_text_embedding(text) for text in [\"Test text\"]]\n",
    "# for emb in embeddings:\n",
    "#     print(f\"Embedding type before storage: {type(emb)}\")\n",
    "#     print(f\"Embedding length before storage: {len(emb)}\")  # Should be 3072\n",
    "# # Simulate insertion (adjust based on your indexing logic)"
   ]
  },
  {
   "cell_type": "code",
   "execution_count": null,
   "id": "8c5ebef8-40e4-4e85-bd4a-cd777667160b",
   "metadata": {},
   "outputs": [],
   "source": []
  }
 ],
 "metadata": {
  "kernelspec": {
   "display_name": "Python 3 (ipykernel)",
   "language": "python",
   "name": "python3"
  },
  "language_info": {
   "codemirror_mode": {
    "name": "ipython",
    "version": 3
   },
   "file_extension": ".py",
   "mimetype": "text/x-python",
   "name": "python",
   "nbconvert_exporter": "python",
   "pygments_lexer": "ipython3",
   "version": "3.11.9"
  }
 },
 "nbformat": 4,
 "nbformat_minor": 5
}
